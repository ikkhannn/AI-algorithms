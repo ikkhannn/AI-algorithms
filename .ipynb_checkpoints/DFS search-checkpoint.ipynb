{
 "cells": [
  {
   "cell_type": "code",
   "execution_count": 2,
   "metadata": {},
   "outputs": [],
   "source": [
    "def recursive_dfs(graph, start, path=[]):\n",
    "  '''recursive depth first search from start'''\n",
    "  path=path+[start]\n",
    "  for node in graph[start]:\n",
    "    if not node in path:\n",
    "      path=recursive_dfs(graph, node, path)\n",
    "  return path\n",
    "\n",
    "def iterative_dfs(graph, start, path=[]):\n",
    "  '''iterative depth first search from start'''\n",
    "  q=[start]\n",
    "  while q:\n",
    "    v=q.pop(0)\n",
    "    if v not in path:\n",
    "      path=path+[v]\n",
    "      q=graph[v]+q\n",
    "  return path\n"
   ]
  },
  {
   "cell_type": "code",
   "execution_count": 3,
   "metadata": {},
   "outputs": [
    {
     "name": "stdout",
     "output_type": "stream",
     "text": [
      "recursive dfs  ['A', 'B', 'D', 'E', 'C', 'F', 'G']\n",
      "iterative dfs  ['A', 'B', 'D', 'E', 'C', 'F', 'G']\n"
     ]
    }
   ],
   "source": [
    "graph = {'A': ['B', 'C', 'E'],\n",
    "         'B': ['A','D', 'E'],\n",
    "         'C': ['A', 'F', 'G'],\n",
    "         'D': ['B','E'],\n",
    "         'E': ['A', 'B','D'],\n",
    "         'F': ['C'],\n",
    "         'G': ['C']}\n",
    "print('recursive dfs ', recursive_dfs(graph, 'A'))\n",
    "print('iterative dfs ', iterative_dfs(graph, 'A'))"
   ]
  },
  {
   "cell_type": "code",
   "execution_count": null,
   "metadata": {},
   "outputs": [],
   "source": []
  }
 ],
 "metadata": {
  "kernelspec": {
   "display_name": "Python 3",
   "language": "python",
   "name": "python3"
  },
  "language_info": {
   "codemirror_mode": {
    "name": "ipython",
    "version": 3
   },
   "file_extension": ".py",
   "mimetype": "text/x-python",
   "name": "python",
   "nbconvert_exporter": "python",
   "pygments_lexer": "ipython3",
   "version": "3.7.3"
  }
 },
 "nbformat": 4,
 "nbformat_minor": 2
}
